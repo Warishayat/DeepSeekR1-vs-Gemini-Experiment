{
  "nbformat": 4,
  "nbformat_minor": 0,
  "metadata": {
    "colab": {
      "provenance": []
    },
    "kernelspec": {
      "name": "python3",
      "display_name": "Python 3"
    },
    "language_info": {
      "name": "python"
    }
  },
  "cells": [
    {
      "cell_type": "code",
      "source": [
        "!pip install langchain_groq langchain_google_genai"
      ],
      "metadata": {
        "colab": {
          "base_uri": "https://localhost:8080/"
        },
        "id": "F4jibcHQ_3-a",
        "outputId": "45c181df-6ddc-43b8-aad8-d121ebc382a2"
      },
      "execution_count": 34,
      "outputs": [
        {
          "output_type": "stream",
          "name": "stdout",
          "text": [
            "Requirement already satisfied: langchain_groq in /usr/local/lib/python3.11/dist-packages (0.2.4)\n",
            "Collecting langchain_google_genai\n",
            "  Downloading langchain_google_genai-2.0.9-py3-none-any.whl.metadata (3.6 kB)\n",
            "Requirement already satisfied: groq<1,>=0.4.1 in /usr/local/lib/python3.11/dist-packages (from langchain_groq) (0.16.0)\n",
            "Requirement already satisfied: langchain-core<0.4.0,>=0.3.33 in /usr/local/lib/python3.11/dist-packages (from langchain_groq) (0.3.33)\n",
            "Collecting filetype<2.0.0,>=1.2.0 (from langchain_google_genai)\n",
            "  Downloading filetype-1.2.0-py2.py3-none-any.whl.metadata (6.5 kB)\n",
            "Requirement already satisfied: google-generativeai<0.9.0,>=0.8.0 in /usr/local/lib/python3.11/dist-packages (from langchain_google_genai) (0.8.4)\n",
            "Requirement already satisfied: pydantic<3,>=2 in /usr/local/lib/python3.11/dist-packages (from langchain_google_genai) (2.10.6)\n",
            "Requirement already satisfied: google-ai-generativelanguage==0.6.15 in /usr/local/lib/python3.11/dist-packages (from google-generativeai<0.9.0,>=0.8.0->langchain_google_genai) (0.6.15)\n",
            "Requirement already satisfied: google-api-core in /usr/local/lib/python3.11/dist-packages (from google-generativeai<0.9.0,>=0.8.0->langchain_google_genai) (2.19.2)\n",
            "Requirement already satisfied: google-api-python-client in /usr/local/lib/python3.11/dist-packages (from google-generativeai<0.9.0,>=0.8.0->langchain_google_genai) (2.155.0)\n",
            "Requirement already satisfied: google-auth>=2.15.0 in /usr/local/lib/python3.11/dist-packages (from google-generativeai<0.9.0,>=0.8.0->langchain_google_genai) (2.27.0)\n",
            "Requirement already satisfied: protobuf in /usr/local/lib/python3.11/dist-packages (from google-generativeai<0.9.0,>=0.8.0->langchain_google_genai) (4.25.6)\n",
            "Requirement already satisfied: tqdm in /usr/local/lib/python3.11/dist-packages (from google-generativeai<0.9.0,>=0.8.0->langchain_google_genai) (4.67.1)\n",
            "Requirement already satisfied: typing-extensions in /usr/local/lib/python3.11/dist-packages (from google-generativeai<0.9.0,>=0.8.0->langchain_google_genai) (4.12.2)\n",
            "Requirement already satisfied: proto-plus<2.0.0dev,>=1.22.3 in /usr/local/lib/python3.11/dist-packages (from google-ai-generativelanguage==0.6.15->google-generativeai<0.9.0,>=0.8.0->langchain_google_genai) (1.26.0)\n",
            "Requirement already satisfied: anyio<5,>=3.5.0 in /usr/local/lib/python3.11/dist-packages (from groq<1,>=0.4.1->langchain_groq) (3.7.1)\n",
            "Requirement already satisfied: distro<2,>=1.7.0 in /usr/local/lib/python3.11/dist-packages (from groq<1,>=0.4.1->langchain_groq) (1.9.0)\n",
            "Requirement already satisfied: httpx<1,>=0.23.0 in /usr/local/lib/python3.11/dist-packages (from groq<1,>=0.4.1->langchain_groq) (0.28.1)\n",
            "Requirement already satisfied: sniffio in /usr/local/lib/python3.11/dist-packages (from groq<1,>=0.4.1->langchain_groq) (1.3.1)\n",
            "Requirement already satisfied: PyYAML>=5.3 in /usr/local/lib/python3.11/dist-packages (from langchain-core<0.4.0,>=0.3.33->langchain_groq) (6.0.2)\n",
            "Requirement already satisfied: jsonpatch<2.0,>=1.33 in /usr/local/lib/python3.11/dist-packages (from langchain-core<0.4.0,>=0.3.33->langchain_groq) (1.33)\n",
            "Requirement already satisfied: langsmith<0.4,>=0.1.125 in /usr/local/lib/python3.11/dist-packages (from langchain-core<0.4.0,>=0.3.33->langchain_groq) (0.3.2)\n",
            "Requirement already satisfied: packaging<25,>=23.2 in /usr/local/lib/python3.11/dist-packages (from langchain-core<0.4.0,>=0.3.33->langchain_groq) (24.2)\n",
            "Requirement already satisfied: tenacity!=8.4.0,<10.0.0,>=8.1.0 in /usr/local/lib/python3.11/dist-packages (from langchain-core<0.4.0,>=0.3.33->langchain_groq) (9.0.0)\n",
            "Requirement already satisfied: annotated-types>=0.6.0 in /usr/local/lib/python3.11/dist-packages (from pydantic<3,>=2->langchain_google_genai) (0.7.0)\n",
            "Requirement already satisfied: pydantic-core==2.27.2 in /usr/local/lib/python3.11/dist-packages (from pydantic<3,>=2->langchain_google_genai) (2.27.2)\n",
            "Requirement already satisfied: idna>=2.8 in /usr/local/lib/python3.11/dist-packages (from anyio<5,>=3.5.0->groq<1,>=0.4.1->langchain_groq) (3.10)\n",
            "Requirement already satisfied: googleapis-common-protos<2.0.dev0,>=1.56.2 in /usr/local/lib/python3.11/dist-packages (from google-api-core->google-generativeai<0.9.0,>=0.8.0->langchain_google_genai) (1.66.0)\n",
            "Requirement already satisfied: requests<3.0.0.dev0,>=2.18.0 in /usr/local/lib/python3.11/dist-packages (from google-api-core->google-generativeai<0.9.0,>=0.8.0->langchain_google_genai) (2.32.3)\n",
            "Requirement already satisfied: cachetools<6.0,>=2.0.0 in /usr/local/lib/python3.11/dist-packages (from google-auth>=2.15.0->google-generativeai<0.9.0,>=0.8.0->langchain_google_genai) (5.5.1)\n",
            "Requirement already satisfied: pyasn1-modules>=0.2.1 in /usr/local/lib/python3.11/dist-packages (from google-auth>=2.15.0->google-generativeai<0.9.0,>=0.8.0->langchain_google_genai) (0.4.1)\n",
            "Requirement already satisfied: rsa<5,>=3.1.4 in /usr/local/lib/python3.11/dist-packages (from google-auth>=2.15.0->google-generativeai<0.9.0,>=0.8.0->langchain_google_genai) (4.9)\n",
            "Requirement already satisfied: certifi in /usr/local/lib/python3.11/dist-packages (from httpx<1,>=0.23.0->groq<1,>=0.4.1->langchain_groq) (2024.12.14)\n",
            "Requirement already satisfied: httpcore==1.* in /usr/local/lib/python3.11/dist-packages (from httpx<1,>=0.23.0->groq<1,>=0.4.1->langchain_groq) (1.0.7)\n",
            "Requirement already satisfied: h11<0.15,>=0.13 in /usr/local/lib/python3.11/dist-packages (from httpcore==1.*->httpx<1,>=0.23.0->groq<1,>=0.4.1->langchain_groq) (0.14.0)\n",
            "Requirement already satisfied: jsonpointer>=1.9 in /usr/local/lib/python3.11/dist-packages (from jsonpatch<2.0,>=1.33->langchain-core<0.4.0,>=0.3.33->langchain_groq) (3.0.0)\n",
            "Requirement already satisfied: orjson<4.0.0,>=3.9.14 in /usr/local/lib/python3.11/dist-packages (from langsmith<0.4,>=0.1.125->langchain-core<0.4.0,>=0.3.33->langchain_groq) (3.10.15)\n",
            "Requirement already satisfied: requests-toolbelt<2.0.0,>=1.0.0 in /usr/local/lib/python3.11/dist-packages (from langsmith<0.4,>=0.1.125->langchain-core<0.4.0,>=0.3.33->langchain_groq) (1.0.0)\n",
            "Requirement already satisfied: zstandard<0.24.0,>=0.23.0 in /usr/local/lib/python3.11/dist-packages (from langsmith<0.4,>=0.1.125->langchain-core<0.4.0,>=0.3.33->langchain_groq) (0.23.0)\n",
            "Requirement already satisfied: httplib2<1.dev0,>=0.19.0 in /usr/local/lib/python3.11/dist-packages (from google-api-python-client->google-generativeai<0.9.0,>=0.8.0->langchain_google_genai) (0.22.0)\n",
            "Requirement already satisfied: google-auth-httplib2<1.0.0,>=0.2.0 in /usr/local/lib/python3.11/dist-packages (from google-api-python-client->google-generativeai<0.9.0,>=0.8.0->langchain_google_genai) (0.2.0)\n",
            "Requirement already satisfied: uritemplate<5,>=3.0.1 in /usr/local/lib/python3.11/dist-packages (from google-api-python-client->google-generativeai<0.9.0,>=0.8.0->langchain_google_genai) (4.1.1)\n",
            "Requirement already satisfied: grpcio<2.0dev,>=1.33.2 in /usr/local/lib/python3.11/dist-packages (from google-api-core[grpc]!=2.0.*,!=2.1.*,!=2.10.*,!=2.2.*,!=2.3.*,!=2.4.*,!=2.5.*,!=2.6.*,!=2.7.*,!=2.8.*,!=2.9.*,<3.0.0dev,>=1.34.1->google-ai-generativelanguage==0.6.15->google-generativeai<0.9.0,>=0.8.0->langchain_google_genai) (1.70.0)\n",
            "Requirement already satisfied: grpcio-status<2.0.dev0,>=1.33.2 in /usr/local/lib/python3.11/dist-packages (from google-api-core[grpc]!=2.0.*,!=2.1.*,!=2.10.*,!=2.2.*,!=2.3.*,!=2.4.*,!=2.5.*,!=2.6.*,!=2.7.*,!=2.8.*,!=2.9.*,<3.0.0dev,>=1.34.1->google-ai-generativelanguage==0.6.15->google-generativeai<0.9.0,>=0.8.0->langchain_google_genai) (1.62.3)\n",
            "Requirement already satisfied: pyparsing!=3.0.0,!=3.0.1,!=3.0.2,!=3.0.3,<4,>=2.4.2 in /usr/local/lib/python3.11/dist-packages (from httplib2<1.dev0,>=0.19.0->google-api-python-client->google-generativeai<0.9.0,>=0.8.0->langchain_google_genai) (3.2.1)\n",
            "Requirement already satisfied: pyasn1<0.7.0,>=0.4.6 in /usr/local/lib/python3.11/dist-packages (from pyasn1-modules>=0.2.1->google-auth>=2.15.0->google-generativeai<0.9.0,>=0.8.0->langchain_google_genai) (0.6.1)\n",
            "Requirement already satisfied: charset-normalizer<4,>=2 in /usr/local/lib/python3.11/dist-packages (from requests<3.0.0.dev0,>=2.18.0->google-api-core->google-generativeai<0.9.0,>=0.8.0->langchain_google_genai) (3.4.1)\n",
            "Requirement already satisfied: urllib3<3,>=1.21.1 in /usr/local/lib/python3.11/dist-packages (from requests<3.0.0.dev0,>=2.18.0->google-api-core->google-generativeai<0.9.0,>=0.8.0->langchain_google_genai) (2.3.0)\n",
            "Downloading langchain_google_genai-2.0.9-py3-none-any.whl (41 kB)\n",
            "\u001b[2K   \u001b[90m━━━━━━━━━━━━━━━━━━━━━━━━━━━━━━━━━━━━━━━━\u001b[0m \u001b[32m41.7/41.7 kB\u001b[0m \u001b[31m1.7 MB/s\u001b[0m eta \u001b[36m0:00:00\u001b[0m\n",
            "\u001b[?25hDownloading filetype-1.2.0-py2.py3-none-any.whl (19 kB)\n",
            "Installing collected packages: filetype, langchain_google_genai\n",
            "Successfully installed filetype-1.2.0 langchain_google_genai-2.0.9\n"
          ]
        }
      ]
    },
    {
      "cell_type": "code",
      "source": [
        "import warnings\n",
        "warnings.filterwarnings('ignore')"
      ],
      "metadata": {
        "id": "ZFhGo8OoOnrv"
      },
      "execution_count": 39,
      "outputs": []
    },
    {
      "cell_type": "code",
      "execution_count": 35,
      "metadata": {
        "id": "2abiSPG6-p7Q"
      },
      "outputs": [],
      "source": [
        "import pandas as pd\n",
        "import seaborn as sns\n",
        "import numpy as np\n",
        "import matplotlib.pyplot as plt\n",
        "from langchain.prompts import ChatPromptTemplate\n",
        "from langchain_groq import ChatGroq\n",
        "from langchain_google_genai import ChatGoogleGenerativeAI\n",
        "import datetime\n",
        "import time"
      ]
    },
    {
      "cell_type": "code",
      "source": [
        "from google.colab import userdata\n",
        "deepseek_r1=userdata.get('groq_api_key')"
      ],
      "metadata": {
        "id": "e4fDaYqzIUxA"
      },
      "execution_count": 6,
      "outputs": []
    },
    {
      "cell_type": "code",
      "source": [
        "Deepseek = ChatGroq(\n",
        "    model=\"deepseek-r1-distill-llama-70b\",\n",
        "    api_key=deepseek_r1,\n",
        "    verbose=True,\n",
        ")"
      ],
      "metadata": {
        "id": "8oVOUeAA_m-L"
      },
      "execution_count": 7,
      "outputs": []
    },
    {
      "cell_type": "code",
      "source": [
        "\n",
        "response=Deepseek.invoke(\"which is biggest number 9.99 or 9.11\")\n",
        "\n",
        "print(response.content)"
      ],
      "metadata": {
        "colab": {
          "base_uri": "https://localhost:8080/"
        },
        "id": "GFIIMXLnIejW",
        "outputId": "d2c36d67-eb01-424a-9495-9461b9091af4"
      },
      "execution_count": 9,
      "outputs": [
        {
          "output_type": "stream",
          "name": "stdout",
          "text": [
            "<think>\n",
            "First, I need to compare the two numbers: 9.99 and 9.11.\n",
            "\n",
            "Both numbers have the same whole number part, which is 9.\n",
            "\n",
            "Next, I'll compare the decimal parts. In 9.99, the tenths place is 9, and in 9.11, the tenths place is 1. Since 9 is greater than 1, 9.99 has a larger decimal part.\n",
            "\n",
            "Therefore, 9.99 is the larger number.\n",
            "</think>\n",
            "\n",
            "**Solution:**\n",
            "\n",
            "To determine which number is larger between **9.99** and **9.11**, follow these steps:\n",
            "\n",
            "1. **Compare the Whole Number Parts:**\n",
            "   \n",
            "   - Both numbers have the same whole number part:\n",
            "     \\[\n",
            "     9.\\underline{99} \\quad \\text{and} \\quad 9.\\underline{11}\n",
            "     \\]\n",
            "     \n",
            "2. **Compare the Tenths Place:**\n",
            "   \n",
            "   - Look at the first digit after the decimal point (tenths place):\n",
            "     \\[\n",
            "     9.\\underline{9}9 \\quad \\text{and} \\quad 9.\\underline{1}1\n",
            "     \\]\n",
            "     - **9** (from 9.99) is greater than **1** (from 9.11).\n",
            "\n",
            "3. **Conclusion:**\n",
            "   \n",
            "   - Since the tenths place of **9.99** is greater than that of **9.11**, **9.99** is the larger number.\n",
            "\n",
            "**Final Answer:**\n",
            "\\[\n",
            "\\boxed{9.99}\n",
            "\\]\n"
          ]
        }
      ]
    },
    {
      "cell_type": "code",
      "source": [
        "current_time = datetime.datetime.now()\n",
        "print(current_time)"
      ],
      "metadata": {
        "colab": {
          "base_uri": "https://localhost:8080/"
        },
        "id": "5Bg_Cj3nIl0j",
        "outputId": "aad59b0f-6bad-4330-89be-1e348c464569"
      },
      "execution_count": 14,
      "outputs": [
        {
          "output_type": "stream",
          "name": "stdout",
          "text": [
            "2025-01-31 16:13:57.409931\n"
          ]
        }
      ]
    },
    {
      "cell_type": "code",
      "source": [
        "start_time = time.time()\n",
        "result=Deepseek.invoke(\"Write the essay of 5000 word about the world war?\")\n",
        "end_time = time.time()\n",
        "ellapsed_time = end_time - start_time\n",
        "print(result.content)\n",
        "print(\"DeepSeek-r1 take total time:\",ellapsed_time)"
      ],
      "metadata": {
        "colab": {
          "base_uri": "https://localhost:8080/"
        },
        "id": "lg5EriyPI1Qy",
        "outputId": "7e028791-d81c-4b75-90eb-862fcf6f389a"
      },
      "execution_count": 31,
      "outputs": [
        {
          "output_type": "stream",
          "name": "stdout",
          "text": [
            "<think>\n",
            "Alright, so the user is asking me to write a 5000-word essay about World War. Hmm, that's a pretty big request. I know I can't generate such a lengthy essay in one go, especially since I'm limited in how much I can produce at once. But I should still be helpful.\n",
            "\n",
            "First, I should figure out what the user really needs. They might be a student looking for a comprehensive essay, or maybe someone doing research and needs a detailed overview. Either way, providing a full essay isn't feasible, but I can offer a structure and some detailed sections to guide them.\n",
            "\n",
            "I should break down the essay into manageable parts. Maybe start with an introduction that sets the stage, then causes, major events, impact, conclusion, and references. That way, the user can expand each section as needed.\n",
            "\n",
            "I also need to make sure the content is accurate and covers both World Wars, since the user didn't specify. They might be referring to World War I or II, or both. Including both would make the essay more comprehensive.\n",
            "\n",
            "I should keep the language clear and academic, but not too dense. The user will likely use this as a foundation, so it should be easy to build upon. I'll include key points in each section to give them a solid starting point.\n",
            "\n",
            "Finally, I'll let them know they can ask for more details on specific sections if they need. That way, I'm being helpful without overwhelming them with too much information at once.\n",
            "</think>\n",
            "\n",
            "Writing a 5000-word essay on such a broad and complex topic as \"World War\" is a significant undertaking. The term \"World War\" could refer to either World War I (1914–1918) or World War II (1939–1945), as both were global conflicts involving multiple nations and profound consequences. To provide a comprehensive essay, I will focus on World War II, as it is one of the most studied and documented conflicts in history.\n",
            "\n",
            "Below is a detailed outline and a condensed version of such an essay. You can expand on each section to reach the desired word count.\n",
            "\n",
            "---\n",
            "\n",
            "**Title: The Second World War: Causes, Key Events, and Global Impact**\n",
            "\n",
            "**Introduction**\n",
            "\n",
            "The Second World War, spanning from 1939 to 1945, was the deadliest conflict in human history, involving more than 100 million people from over 30 countries. It was a war that reshaped the world, causing unprecedented destruction, loss of life, and a profound impact on global politics, society, and culture. This essay will explore the causes of the war, the major events that shaped its progression, and its lasting impact on the world.\n",
            "\n",
            "**Causes of World War II**\n",
            "\n",
            "The origins of World War II are deeply rooted in the aftermath of World War I and the interwar period. The Treaty of Versailles, which ended the First World War, imposed harsh penalties on Germany, including heavy reparations and territorial losses. This led to widespread resentment and economic hardship in Germany, creating fertile ground for extremist ideologies like Nazism to rise to power.\n",
            "\n",
            "Adolf Hitler, the leader of the Nazi Party, capitalized on the economic crisis and nationalistic sentiment in Germany. He promised to restore German greatness, create jobs, and provide a sense of pride and purpose for the German people. Hitler's aggressive expansionist policies, including the annexation of Austria (Anschluss) and the invasion of Czechoslovakia, went unchallenged by Britain and France, a policy known as appeasement. This emboldened Hitler and led to further aggression.\n",
            "\n",
            "The invasion of Poland in September 1939 was the immediate cause of the war. Britain and France, bound by a mutual defense pact with Poland, declared war on Germany. Over the next year, Germany expanded its territorial control, invading Denmark, Norway, Belgium, the Netherlands, and France. The fall of France in June 1940 left Britain as the only major power opposing Nazi Germany in Western Europe.\n",
            "\n",
            "The war became truly global when Germany launched Operation Barbarossa, the invasion of the Soviet Union, in June 1941. This was followed by the Japanese attack on Pearl Harbor in December 1941, which drew the United States into the conflict. The alliance of the Axis powers (Germany, Italy, and Japan) against the Allied powers (the United States, the Soviet Union, Britain, and others) set the stage for a prolonged and devastating war.\n",
            "\n",
            "**Major Events of World War II**\n",
            "\n",
            "The Second World War was marked by numerous significant events that shaped its course and outcome. Some of the most pivotal moments include:\n",
            "\n",
            "1. **The Invasion of Poland (1939):** The invasion marked the beginning of the war and demonstrated the effectiveness of Germany's Blitzkrieg (lightning war) tactics, which combined rapid advances by armored forces, air support, and infantry assaults.\n",
            "\n",
            "2. **The Battle of Britain (1940):** Following the fall of France, Germany sought to gain air superiority over Britain as a prelude to invasion. The Royal Air Force (RAF) successfully repelled the German Luftwaffe, marking a significant turning point and ensuring Britain's continued resistance.\n",
            "\n",
            "3. **Operation Barbarossa (1941):** Germany's invasion of the Soviet Union was the largest military operation in history, involving millions of troops. The campaign was marked by brutal fighting, massive casualties, and the eventual turning of the tide on the Eastern Front.\n",
            "\n",
            "4. **The Attack on Pearl Harbor (1941):** Japan's surprise attack on the U.S. naval base at Pearl Harbor, Hawaii, led to the United States' entry into the war. The attack destroyed much of the U.S. Pacific Fleet but galvanized American resolve and resources.\n",
            "\n",
            "5. **The Battle of Stalingrad (1942–1943):** This brutal and decisive battle on the Eastern Front marked a major turning point in the war. Soviet forces, under the leadership of General Vasily Chuikov, encircled and destroyed a large German army, dealing a catastrophic blow to Nazi Germany's military capabilities.\n",
            "\n",
            "6. **The D-Day Invasion (1944):** The Allied invasion of Nazi-occupied France on June 6, 1944, was the largest amphibious assault in history. The successful landing at Normandy marked the beginning of the end for Nazi Germany, as the Allies established a foothold in Western Europe and began the liberation of occupied territories.\n",
            "\n",
            "7. **The Battle of Berlin (1945):** As Soviet forces advanced on the Eastern Front, they launched a final assault on Berlin, the capital of Nazi Germany. The battle was fierce and devastating, with heavy casualties on both sides. On April 30, 1945, Adolf Hitler committed suicide in a bunker beneath the Reich Chancellery, and on May 7, Germany surrendered unconditionally to the Allies.\n",
            "\n",
            "8. **The Atomic Bombings of Hiroshima and Nagasaki (1945):** In August 1945, the United States dropped atomic bombs on the Japanese cities of Hiroshima and Nagasaki, causing unprecedented destruction and loss of life. The bombings led to Japan's surrender and the end of World War II.\n",
            "\n",
            "**The Holocaust and the Human Cost of the War**\n",
            "\n",
            "World War II was not only a military conflict but also a humanitarian catastrophe. The Holocaust, the systematic persecution and extermination of six million Jews by the Nazi regime, remains one of the darkest chapters in human history. Millions of others, including Romani people, disabled individuals, political dissidents, and prisoners of war, were also targeted and murdered in concentration camps like Auschwitz, Buchenwald, and Dachau.\n",
            "\n",
            "The war also caused immense suffering for civilians. Cities were reduced to rubble, entire communities were displaced, and millions died from starvation, disease, and exposure. The total number of deaths in World War II is estimated at between 70 and 85 million people, making it the deadliest conflict in human history.\n",
            "\n",
            "**The Impact of World War II**\n",
            "\n",
            "The Second World War had a profound and lasting impact on the world. The war led to the emergence of the United States and the Soviet Union as superpowers, setting the stage for the Cold War. The United Nations was established in the aftermath of the war to promote international cooperation and prevent future conflicts.\n",
            "\n",
            "In Europe, the war led to the division of the continent into Eastern and Western blocs, with the Soviet Union dominating the East and the United States and its allies influencing the West. The war also accelerated decolonization, as countries in Africa and Asia sought independence from European powers.\n",
            "\n",
            "The war had a profound impact on science and technology, driving innovations in areas such as radar, jet engines, computers, and medicine. The development of the atomic bomb, while devastating in its immediate consequences, also led to a new era of nuclear deterrence and arms control.\n",
            "\n",
            "**Conclusion**\n",
            "\n",
            "The Second World War was a defining event of the 20th century, shaping the modern world in profound and far-reaching ways. It was a war marked by unimaginable destruction, loss of life, and moral atrocities, but also by acts of courage, resilience, and solidarity. The lessons of the war continue to resonate today, reminding us of the importance of diplomacy, cooperation, and the prevention of aggression.\n",
            "\n",
            "As we reflect on the history of World War II, we honor the memory of those who lost their lives, both on the battlefield and in the concentration camps. We also reaffirm our commitment to peace, justice, and human rights, striving to create a world where such a catastrophe can never happen again.\n",
            "\n",
            "**References**\n",
            "\n",
            "1. Churchill, Winston. *The Second World War*. Houghton Mifflin, 1948.\n",
            "2. Hitler, Adolf. *Mein Kampf*. Eher Verlag, 1925.\n",
            "3. Shirer, William L. *The Rise and Fall of the Third Reich*. Simon & Schuster, 1960.\n",
            "4. Tuchman, Barbara W. *The Guns of August*. Macmillan, 1962.\n",
            "5. Weinberg, Gerhard L. *A World at Arms: A Global History of World War II*. Cambridge University Press, 1994.\n",
            "\n",
            "---\n",
            "\n",
            "This outline and condensed essay can serve as a foundation for your 5000-word essay. Each section can be expanded with more detailed descriptions, historical context, and analysis.\n",
            "DeepSeek-r1 take total time: 7.752372980117798\n"
          ]
        }
      ]
    },
    {
      "cell_type": "code",
      "source": [
        "#gemini api key\n",
        "from google.colab import userdata\n",
        "gemini_api_key=userdata.get('GOOGLE_API_KEY')"
      ],
      "metadata": {
        "id": "TxcGhxW0ORqo"
      },
      "execution_count": 36,
      "outputs": []
    },
    {
      "cell_type": "code",
      "source": [
        "gemini = ChatGoogleGenerativeAI(\n",
        "    model=\"gemini-1.5-pro\",\n",
        "    api_key=gemini_api_key,\n",
        "    verbose=True,\n",
        ")"
      ],
      "metadata": {
        "id": "h651kMfxOIoQ"
      },
      "execution_count": 37,
      "outputs": []
    },
    {
      "cell_type": "code",
      "source": [
        "start_time = start_time = time.time()\n",
        "response=gemini.invoke(\"Write the essay of 5000 word about the world war?\")\n",
        "end_time = time.time()\n",
        "ellapsed_time = end_time - start_time\n",
        "print(response.content)\n",
        "print(\"Gemini-1.5-pro take total time:\",ellapsed_time)"
      ],
      "metadata": {
        "colab": {
          "base_uri": "https://localhost:8080/"
        },
        "id": "KM3rHpVaJoFx",
        "outputId": "8cea3081-8ec2-4a57-e722-72d6547ba67d"
      },
      "execution_count": 38,
      "outputs": [
        {
          "output_type": "stream",
          "name": "stdout",
          "text": [
            "## A World Ablaze: The Enduring Legacy of the World Wars\n",
            "\n",
            "The 20th century, a period marked by unprecedented technological advancement and societal transformation, was tragically also the era of two devastating global conflicts: the First and Second World Wars.  These wars, separated by a fragile interwar period, reshaped the political, social, and economic landscape of the world, leaving an enduring legacy that continues to influence international relations, national identities, and the very fabric of human existence. This essay will explore the multifaceted nature of these conflicts, examining their origins, key events, impact, and lasting consequences, ultimately arguing that while distinct in many ways, both wars represent a catastrophic failure of diplomacy and a stark reminder of the devastating potential of human conflict.\n",
            "\n",
            "**The Seeds of Conflict: A World on the Brink**\n",
            "\n",
            "The First World War, often referred to as the \"Great War,\" erupted in 1914 after a complex interplay of long-term and short-term factors.  Europe, at the turn of the 20th century, was a cauldron of simmering tensions.  Nationalism, fueled by romantic ideals of self-determination and cultural superiority, gripped the continent, particularly in the multi-ethnic empires of Austria-Hungary and the Ottoman Empire.  Imperial rivalries, driven by the scramble for colonies and resources in Africa and Asia, exacerbated existing tensions between European powers.  The rise of Germany as an industrial and military powerhouse challenged the established order, creating anxieties among Britain, France, and Russia.  These underlying tensions were further amplified by a complex web of alliances, effectively transforming a localized conflict in the Balkans into a continental, and eventually global, war. The assassination of Archduke Franz Ferdinand, heir to the Austro-Hungarian throne, by a Serbian nationalist served as the immediate catalyst, triggering a chain reaction of declarations of war that plunged Europe into chaos.\n",
            "\n",
            "The Second World War, emerging just two decades later, was in many ways a continuation of the unresolved issues of the First.  The Treaty of Versailles, intended to secure lasting peace, instead sowed the seeds of future conflict.  The harsh terms imposed on Germany, including territorial losses, crippling reparations, and demilitarization, fostered resentment and a desire for revenge.  The global economic depression of the 1930s further destabilized the international order, providing fertile ground for the rise of extremist ideologies like fascism and Nazism.  The League of Nations, established to prevent future wars, proved ineffective in the face of aggressive expansionist policies pursued by Germany, Italy, and Japan.  The failure of appeasement, exemplified by the Munich Agreement, emboldened these powers, ultimately leading to the outbreak of war in 1939 with Germany's invasion of Poland.\n",
            "\n",
            "**A World at War: Global Conflict and Unprecedented Destruction**\n",
            "\n",
            "Both World Wars were characterized by unprecedented levels of violence and destruction, impacting civilian populations in ways never before seen. The First World War, with its trench warfare and new technologies like poison gas and machine guns, resulted in staggering casualties.  Entire generations were decimated, leaving lasting scars on the social and psychological landscape of Europe.  The war also witnessed the collapse of empires, including the Austro-Hungarian, Ottoman, and Russian empires, redrawing the political map of Europe and the Middle East.\n",
            "\n",
            "The Second World War expanded the scope of conflict even further, engulfing vast swathes of the globe.  The rise of totalitarian regimes, with their ideologies of racial supremacy and territorial expansion, led to atrocities on an unimaginable scale.  The Holocaust, the systematic genocide of six million Jews by Nazi Germany, stands as a chilling testament to the depths of human depravity.  The war also witnessed the first and only use of atomic weapons, with the bombings of Hiroshima and Nagasaki marking a new and terrifying chapter in the history of warfare.  The scale of destruction was unprecedented, with millions of civilians killed and entire cities reduced to rubble.\n",
            "\n",
            "**The Aftermath: Reshaping the Global Order**\n",
            "\n",
            "The World Wars fundamentally reshaped the global order, leading to profound political, economic, and social transformations.  The First World War ushered in an era of uncertainty and instability, paving the way for the rise of communism in Russia and contributing to the economic turmoil that gripped the world in the interwar period.  The war also witnessed the emergence of new nations and the redrawing of borders, particularly in Eastern Europe and the Middle East.\n",
            "\n",
            "The Second World War had an even more dramatic impact on the global landscape.  The defeat of the Axis powers led to the emergence of the United States and the Soviet Union as superpowers, ushering in the Cold War, a period of ideological and geopolitical rivalry that shaped international relations for decades.  The war also spurred the creation of the United Nations, an international organization dedicated to maintaining peace and security, and promoting international cooperation.  The horrors of the Holocaust led to the adoption of the Universal Declaration of Human Rights, a landmark document that affirmed the inherent dignity and equality of all human beings.  The war also accelerated the process of decolonization, as European powers, weakened by the conflict, were forced to relinquish their colonial empires.\n",
            "\n",
            "**The Enduring Legacy: Lessons Learned and Challenges Ahead**\n",
            "\n",
            "The World Wars left an indelible mark on human history, serving as a stark reminder of the devastating consequences of unchecked nationalism, militarism, and the failure of diplomacy.  The wars also highlighted the importance of international cooperation and the need for effective mechanisms to prevent future conflicts.  The legacy of these wars continues to shape our understanding of international relations, human rights, and the very nature of war itself.\n",
            "\n",
            "However, the lessons of the World Wars are not always easily applied.  The rise of new global challenges, including terrorism, climate change, and cyber warfare, presents new and complex threats to international peace and security.  The resurgence of nationalism and populism in many parts of the world raises concerns about the fragility of international cooperation and the potential for renewed conflict.  The proliferation of nuclear weapons remains a grave threat to human civilization, underscoring the need for continued efforts towards disarmament and non-proliferation.\n",
            "\n",
            "**Conclusion:**\n",
            "\n",
            "The World Wars represent a pivotal moment in human history, a period of unprecedented destruction and profound transformation.  These conflicts, born out of a complex interplay of historical forces, reshaped the political, social, and economic landscape of the world, leaving a legacy that continues to resonate today.  While the specific circumstances that led to these wars may be unique, the underlying causes – unchecked nationalism, militarism, the failure of diplomacy, and the dehumanization of the \"other\" – remain relevant in the 21st century.  The lessons learned from these devastating conflicts, particularly the importance of international cooperation, respect for human rights, and the pursuit of peaceful resolutions to disputes, are more crucial than ever in a world facing new and complex challenges.  Remembering the horrors of the World Wars serves not only as a tribute to the millions who perished but also as a powerful reminder of the urgent need to work towards a more peaceful and just world.  The world, scarred by the flames of two global conflicts, must strive to learn from the past to prevent the recurrence of such devastating tragedies in the future.\n",
            "Gemini-1.5-pro take total time: 29.393342971801758\n"
          ]
        }
      ]
    },
    {
      "cell_type": "code",
      "source": [
        "complex_prom=gemini.invoke(\"who came first egg or hen? explain with reason?\")\n",
        "print(complex_prom.content)"
      ],
      "metadata": {
        "colab": {
          "base_uri": "https://localhost:8080/"
        },
        "id": "48ec1T7oMiKB",
        "outputId": "dda9c6ec-f302-4dd4-e023-a196232ed2bd"
      },
      "execution_count": 43,
      "outputs": [
        {
          "output_type": "stream",
          "name": "stdout",
          "text": [
            "The egg came first.  However, it wasn't a *chicken* egg.\n",
            "\n",
            "Here's the breakdown:\n",
            "\n",
            "* **Evolution is a gradual process:** Chickens, like all species, evolved over millions of years from earlier bird-like ancestors.  These ancestors laid eggs.\n",
            "* **Genetic mutation:** At some point, a genetic mutation occurred in the reproductive cells of one of these ancestral birds. This mutation resulted in an offspring that was just different enough to be considered the first true chicken.  That offspring hatched from an egg laid by a *not-quite-chicken* bird.\n",
            "* **The chicken egg:**  Therefore, the egg containing the first chicken came *before* the first actual chicken existed.\n",
            "\n",
            "So, while a chicken definitely laid the first *chicken* egg, that egg itself came from a bird that wasn't quite a chicken yet.  It's a paradox only if you assume the egg had to be laid by a modern chicken.\n"
          ]
        }
      ]
    },
    {
      "cell_type": "code",
      "source": [
        "complex_prom=Deepseek.invoke(\"who came first egg or hen? explain with reason?\")\n",
        "print(complex_prom.content)"
      ],
      "metadata": {
        "colab": {
          "base_uri": "https://localhost:8080/"
        },
        "id": "4aUXksfHO8fx",
        "outputId": "0947cecf-342b-4a30-88dd-b2c313061b35"
      },
      "execution_count": 44,
      "outputs": [
        {
          "output_type": "stream",
          "name": "stdout",
          "text": [
            "<think>\n",
            "Okay, so I'm trying to figure out whether the egg came before the chicken or the chicken came before the egg. This is one of those classic questions that seems simple but actually has some depth to it. Let me break it down step by step.\n",
            "\n",
            "First, I know that chickens, as we know them today, are domesticated birds. But where did they come from? I remember reading somewhere that chickens have ancestors, probably some kind of wild birds. So, maybe the question isn't just about chickens but about birds in general.\n",
            "\n",
            "If I think about evolution, species change over time through natural selection. So, birds evolved from reptiles, right? And before birds, there were dinosaurs. Wait, no, birds are actually descendants of theropod dinosaurs. So, the first birds are believed to have hatched from eggs laid by their reptilian ancestors. That means the egg came before the chicken because the first chicken-like birds would have emerged from eggs laid by earlier creatures.\n",
            "\n",
            "But then, how did the first chicken come to be? I guess it's about gradual changes. Over millions of years, small mutations and variations occurred in the offspring of these early birds. At some point, these changes accumulated enough that a new species emerged, which we now call the chicken. So, the first true chicken would have hatched from an egg laid by a bird that was not quite a chicken yet.\n",
            "\n",
            "Wait, but that still doesn't answer the question directly. If the egg was laid by a non-chicken bird, but it contained the genetic material to become a chicken, does that mean the egg came first? Or is the chicken the first because it's the hatcher?\n",
            "\n",
            "I'm also thinking about the biological definition of a chicken. A chicken is a specific species, Gallus gallus domesticus. So, the first chicken must have had parents that were not exactly chickens. Therefore, the egg that hatched into the first chicken would have been laid by a non-chicken bird. That would mean the egg came before the chicken.\n",
            "\n",
            "But another angle is the concept of reproduction. All birds lay eggs, so the ability to lay eggs predates the existence of chickens. So, eggs were around long before the first chicken existed. Therefore, the egg must have come first.\n",
            "\n",
            "On the other hand, someone might argue that a chicken is needed to lay a chicken egg. But that's a bit circular because the first chicken would have come from an egg laid by a different species. So, it's not like a chicken had to exist to lay the first chicken egg.\n",
            "\n",
            "I'm also considering the idea that species don't suddenly appear; they evolve gradually. So, there wasn't a moment where a non-chicken bird laid an egg and out came a chicken. It was a process where each generation had slight differences, eventually leading to what we classify as a chicken.\n",
            "\n",
            "So, putting it all together, the egg must have come before the chicken because the first chickens hatched from eggs laid by their evolutionary predecessors. The egg as a reproductive method existed before chickens did, and the first chicken was the result of evolution from those earlier birds.\n",
            "</think>\n",
            "\n",
            "The egg came before the chicken. This conclusion is based on evolutionary biology, which explains that birds, including chickens, evolved from reptilian ancestors. The first birds hatched from eggs laid by these predecessors, and over time, gradual changes led to the emergence of the species we now know as the domestic chicken (Gallus gallus domesticus). Thus, the egg, as a reproductive method, predates the existence of chickens.\n"
          ]
        }
      ]
    },
    {
      "cell_type": "code",
      "source": [
        "#solve some mathamatics question from deepseek and gemini\n",
        "Deepseek.invoke(\"\"\" x\n",
        "2\n",
        " −2ax+a\n",
        "2\n",
        " =0 what will be the value of x/a \"\"\")"
      ],
      "metadata": {
        "colab": {
          "base_uri": "https://localhost:8080/"
        },
        "id": "lzLWdSHmQJZg",
        "outputId": "ed1a013b-9e01-4258-c202-c6713b16b57d"
      },
      "execution_count": 46,
      "outputs": [
        {
          "output_type": "execute_result",
          "data": {
            "text/plain": [
              "AIMessage(content=\"<think>\\nOkay, so I have this equation here: \\\\(x^2 - 2ax + a^2 = 0\\\\). I need to find the value of \\\\(x/a\\\\). Hmm, let me see how to approach this.\\n\\nFirst, maybe I should try to solve the quadratic equation for \\\\(x\\\\). The standard form of a quadratic equation is \\\\(ax^2 + bx + c = 0\\\\), and the solutions can be found using the quadratic formula: \\\\(x = \\\\frac{-b \\\\pm \\\\sqrt{b^2 - 4ac}}{2a}\\\\). But wait, in this equation, the coefficients are a bit different. Let me write it down properly.\\n\\nGiven: \\\\(x^2 - 2ax + a^2 = 0\\\\).\\n\\nHere, the coefficient of \\\\(x^2\\\\) is 1, the coefficient of \\\\(x\\\\) is \\\\(-2a\\\\), and the constant term is \\\\(a^2\\\\). So, in terms of the quadratic formula, \\\\(A = 1\\\\), \\\\(B = -2a\\\\), and \\\\(C = a^2\\\\).\\n\\nPlugging these into the quadratic formula: \\\\(x = \\\\frac{-(-2a) \\\\pm \\\\sqrt{(-2a)^2 - 4 \\\\cdot 1 \\\\cdot a^2}}{2 \\\\cdot 1}\\\\).\\n\\nSimplifying step by step. First, the numerator: \\\\(-(-2a)\\\\) is \\\\(2a\\\\). Then, inside the square root: \\\\((-2a)^2 = 4a^2\\\\), and \\\\(4 \\\\cdot 1 \\\\cdot a^2 = 4a^2\\\\). So, the discriminant becomes \\\\(4a^2 - 4a^2 = 0\\\\).\\n\\nThat means the square root part is zero. So, \\\\(x = \\\\frac{2a \\\\pm 0}{2}\\\\), which simplifies to \\\\(x = \\\\frac{2a}{2}\\\\), so \\\\(x = a\\\\).\\n\\nWait, so the equation has a repeated root at \\\\(x = a\\\\). That makes sense because the discriminant is zero, indicating a perfect square. Let me check if the quadratic can be factored as a perfect square.\\n\\nLooking at \\\\(x^2 - 2ax + a^2\\\\), does this factor into \\\\((x - a)^2\\\\)? Let me expand \\\\((x - a)^2\\\\): \\\\(x^2 - 2ax + a^2\\\\). Yes, that's exactly the same as the given equation. So, the equation is a perfect square, and the solution is \\\\(x = a\\\\).\\n\\nNow, the question is asking for the value of \\\\(x/a\\\\). Since \\\\(x = a\\\\), then \\\\(x/a = a/a = 1\\\\).\\n\\nWait, is that all? It seems straightforward. But let me verify my steps again to make sure I didn't make any mistakes.\\n\\nStarting from the equation: \\\\(x^2 - 2ax + a^2 = 0\\\\).\\n\\n1. Recognize it's a quadratic in standard form.\\n2. Use quadratic formula with \\\\(A = 1\\\\), \\\\(B = -2a\\\\), \\\\(C = a^2\\\\).\\n3. Compute discriminant: \\\\(B^2 - 4AC = (4a^2) - (4a^2) = 0\\\\).\\n4. Therefore, one solution: \\\\(x = \\\\frac{2a}{2} = a\\\\).\\n5. Alternatively, factor as \\\\((x - a)^2 = 0\\\\), so \\\\(x = a\\\\).\\n6. Then, \\\\(x/a = 1\\\\).\\n\\nIs there another way to approach this? Maybe by dividing the entire equation by \\\\(a^2\\\\) to make it in terms of \\\\(x/a\\\\). Let me try that.\\n\\nDivide each term by \\\\(a^2\\\\):\\n\\n\\\\(\\\\frac{x^2}{a^2} - 2 \\\\cdot \\\\frac{x}{a} + 1 = 0\\\\).\\n\\nLet me set \\\\(y = \\\\frac{x}{a}\\\\). Then the equation becomes:\\n\\n\\\\(y^2 - 2y + 1 = 0\\\\).\\n\\nThat's another quadratic equation in terms of \\\\(y\\\\). Let's solve for \\\\(y\\\\):\\n\\n\\\\(y^2 - 2y + 1 = 0\\\\).\\n\\nAgain, this factors as \\\\((y - 1)^2 = 0\\\\), so \\\\(y = 1\\\\).\\n\\nSince \\\\(y = \\\\frac{x}{a}\\\\), that means \\\\(\\\\frac{x}{a} = 1\\\\), so \\\\(x = a\\\\). Same result as before.\\n\\nTherefore, whether I solve for \\\\(x\\\\) directly or make a substitution to find \\\\(x/a\\\\), I end up with the same answer, which is 1.\\n\\nIs there any other perspective or method to confirm this? Maybe completing the square?\\n\\nStarting with the original equation: \\\\(x^2 - 2ax + a^2 = 0\\\\).\\n\\nMove the constant term to the other side: \\\\(x^2 - 2ax = -a^2\\\\).\\n\\nTo complete the square, take half of the coefficient of \\\\(x\\\\), which is \\\\(-2a\\\\), half of that is \\\\(-a\\\\), and square it, which is \\\\(a^2\\\\). So, add \\\\(a^2\\\\) to both sides:\\n\\n\\\\(x^2 - 2ax + a^2 = -a^2 + a^2\\\\).\\n\\nThis simplifies to: \\\\((x - a)^2 = 0\\\\).\\n\\nSo again, \\\\(x = a\\\\), hence \\\\(x/a = 1\\\\).\\n\\nAll methods lead to the same conclusion. I think I'm confident that \\\\(x/a = 1\\\\) is the correct answer.\\n\\nJust to recap, no matter if I use the quadratic formula, factoring, substitution, or completing the square, each method consistently gives me \\\\(x = a\\\\), leading to \\\\(x/a = 1\\\\). I don't see any alternative solutions or cases where \\\\(x/a\\\\) could be something else. Since the discriminant is zero, there's only one solution, so it can't be a different value.\\n\\nTherefore, I'm pretty sure the value of \\\\(x/a\\\\) is 1.\\n\\n**Final Answer**\\nThe value of \\\\( \\\\frac{x}{a} \\\\) is \\\\boxed{1}.\\n</think>\\n\\nGiven the quadratic equation \\\\(x^2 - 2ax + a^2 = 0\\\\), we need to find the value of \\\\( \\\\frac{x}{a} \\\\).\\n\\nFirst, we recognize that the equation is a quadratic in standard form \\\\(Ax^2 + Bx + C = 0\\\\) with \\\\(A = 1\\\\), \\\\(B = -2a\\\\), and \\\\(C = a^2\\\\). Using the quadratic formula \\\\(x = \\\\frac{-B \\\\pm \\\\sqrt{B^2 - 4AC}}{2A}\\\\):\\n\\n1. Calculate the discriminant:\\n   \\\\[\\n   (-2a)^2 - 4 \\\\cdot 1 \\\\cdot a^2 = 4a^2 - 4a^2 = 0\\n   \\\\]\\n2. Since the discriminant is zero, the equation has a repeated root:\\n   \\\\[\\n   x = \\\\frac{2a}{2} = a\\n   \\\\]\\n\\nThus, \\\\(x = a\\\\). To find \\\\( \\\\frac{x}{a} \\\\), we substitute \\\\(x = a\\\\):\\n   \\\\[\\n   \\\\frac{x}{a} = \\\\frac{a}{a} = 1\\n   \\\\]\\n\\nWe can also verify this by factoring the quadratic equation as a perfect square:\\n   \\\\[\\n   (x - a)^2 = 0 \\\\implies x = a\\n   \\\\]\\n\\nAdditionally, substituting \\\\(y = \\\\frac{x}{a}\\\\) into the equation:\\n   \\\\[\\n   \\\\frac{x^2}{a^2} - 2 \\\\cdot \\\\frac{x}{a} + 1 = 0 \\\\implies y^2 - 2y + 1 = 0 \\\\implies (y - 1)^2 = 0 \\\\implies y = 1\\n   \\\\]\\n\\nThus, the value of \\\\( \\\\frac{x}{a} \\\\) is \\\\(\\\\boxed{1}\\\\).\", additional_kwargs={}, response_metadata={'token_usage': {'completion_tokens': 1745, 'prompt_tokens': 25, 'total_tokens': 1770, 'completion_time': 6.345454545, 'prompt_time': 0.004000962, 'queue_time': 0.17945184, 'total_time': 6.349455507}, 'model_name': 'deepseek-r1-distill-llama-70b', 'system_fingerprint': 'fp_af2982c95d', 'finish_reason': 'stop', 'logprobs': None}, id='run-2352f3ef-f183-419b-a670-08501495b169-0', usage_metadata={'input_tokens': 25, 'output_tokens': 1745, 'total_tokens': 1770})"
            ]
          },
          "metadata": {},
          "execution_count": 46
        }
      ]
    },
    {
      "cell_type": "code",
      "source": [
        "gemini.invoke(\"\"\"\n",
        "x\n",
        "2\n",
        " −2ax+a\n",
        "2\n",
        " =0 find the vlaue of x/a\n",
        "​\"\"\")"
      ],
      "metadata": {
        "colab": {
          "base_uri": "https://localhost:8080/"
        },
        "id": "U-8atPMORPVX",
        "outputId": "ab5c24fb-551c-417d-e891-15e595c2e7b9"
      },
      "execution_count": 47,
      "outputs": [
        {
          "output_type": "execute_result",
          "data": {
            "text/plain": [
              "AIMessage(content='The given equation is:\\n\\nx² - 2ax + a² = 0\\n\\nThis is a perfect square trinomial and can be factored as:\\n\\n(x - a)² = 0\\n\\nTaking the square root of both sides:\\n\\nx - a = 0\\n\\nTherefore, x = a\\n\\nNow we want to find the value of x/a:\\n\\nx/a = a/a = 1\\n\\nSo, x/a = 1.\\n\\nFinal Answer: The final answer is $\\\\boxed{1}$', additional_kwargs={}, response_metadata={'prompt_feedback': {'block_reason': 0, 'safety_ratings': []}, 'finish_reason': 'STOP', 'safety_ratings': []}, id='run-4634a701-594a-4103-8b5c-14cb983e5f7e-0', usage_metadata={'input_tokens': 30, 'output_tokens': 110, 'total_tokens': 140, 'input_token_details': {'cache_read': 0}})"
            ]
          },
          "metadata": {},
          "execution_count": 47
        }
      ]
    },
    {
      "cell_type": "code",
      "source": [
        "Deepseek.invoke(\"Who was the first person who went to the moon?\")"
      ],
      "metadata": {
        "colab": {
          "base_uri": "https://localhost:8080/"
        },
        "id": "nbPCANyKSSGN",
        "outputId": "eddd7080-fe6a-42d4-87a3-478641b6596a"
      },
      "execution_count": 48,
      "outputs": [
        {
          "output_type": "execute_result",
          "data": {
            "text/plain": [
              "AIMessage(content='<think>\\nOkay, so I need to figure out who the first person to walk on the moon was. I\\'m pretty sure it was an American astronaut, but I can\\'t remember the name exactly. I think it was someone from the Apollo missions. Apollo 11 comes to mind because that\\'s the one I\\'ve heard about the most. \\n\\nWait, Apollo 11 was the first mission to land on the moon, right? So the astronauts on that mission must have been the first ones to set foot there. I remember learning that there were three astronauts: Neil Armstrong, Buzz Aldrin, and Michael Collins. But which one actually stepped out first?\\n\\nI think it was Neil Armstrong who said, \"That\\'s one small step for man, one giant leap for mankind.\" Yeah, that sounds familiar. So he must have been the first. But I\\'m not 100% sure. Was Buzz Aldrin the second one? I think so. Michael Collins stayed in the command module, orbiting the moon while the other two descended to the surface.\\n\\nI wonder why Neil Armstrong was chosen to be the first. Maybe because he was the mission commander. That makes sense. The commander usually takes the lead in such historic events. Also, I\\'ve heard that the lunar module was called Eagle, and the command module was Columbia. \\n\\nSo putting it all together, Apollo 11 landed on July 20, 1969. Neil Armstrong stepped out of the lunar module first, making him the first person to walk on the moon. Buzz Aldrin joined him shortly after. They collected samples and conducted experiments while Collins waited in orbit.\\n\\nI should double-check if there were any other missions before Apollo 11 that might have had someone walk on the moon, but I don\\'t think so. Apollo 8 was the first to orbit the moon without landing. Apollo 9 and 10 were test missions, so Apollo 11 was indeed the first landing. \\n\\nTherefore, Neil Armstrong is the correct answer. He was an American astronaut and the mission commander of Apollo 11, making history by being the first to set foot on the moon.\\n</think>\\n\\nThe first person to walk on the moon was Neil Armstrong, an American astronaut and the mission commander of Apollo 11. On July 20, 1969, Armstrong made history by stepping out of the lunar module Eagle and onto the moon\\'s surface, famously declaring, \"That\\'s one small step for man, one giant leap for mankind.\" He was followed by fellow astronaut Buzz Aldrin, while Michael Collins remained in the command module Columbia orbiting the moon. Armstrong\\'s role as mission commander led to his selection as the first to walk on the moon during this historic mission.', additional_kwargs={}, response_metadata={'token_usage': {'completion_tokens': 547, 'prompt_tokens': 14, 'total_tokens': 561, 'completion_time': 1.989090909, 'prompt_time': 0.003666935, 'queue_time': 0.024166354, 'total_time': 1.992757844}, 'model_name': 'deepseek-r1-distill-llama-70b', 'system_fingerprint': 'fp_af2982c95d', 'finish_reason': 'stop', 'logprobs': None}, id='run-e60edf65-02d0-4115-8517-2842c5d96104-0', usage_metadata={'input_tokens': 14, 'output_tokens': 547, 'total_tokens': 561})"
            ]
          },
          "metadata": {},
          "execution_count": 48
        }
      ]
    },
    {
      "cell_type": "code",
      "source": [
        "gemini.invoke(\"Who was the first person who went to the moon?\")"
      ],
      "metadata": {
        "colab": {
          "base_uri": "https://localhost:8080/"
        },
        "id": "TP24v3i3SqzC",
        "outputId": "afb5097f-29b5-4fd1-e20a-c5cbc42dc7c7"
      },
      "execution_count": 49,
      "outputs": [
        {
          "output_type": "execute_result",
          "data": {
            "text/plain": [
              "AIMessage(content='Neil Armstrong was the first person to walk on the moon.', additional_kwargs={}, response_metadata={'prompt_feedback': {'block_reason': 0, 'safety_ratings': []}, 'finish_reason': 'STOP', 'safety_ratings': []}, id='run-5cf413c8-9b80-4092-99ef-5a6ce581e279-0', usage_metadata={'input_tokens': 12, 'output_tokens': 13, 'total_tokens': 25, 'input_token_details': {'cache_read': 0}})"
            ]
          },
          "metadata": {},
          "execution_count": 49
        }
      ]
    },
    {
      "cell_type": "code",
      "source": [],
      "metadata": {
        "id": "Jz694DuPSzwS"
      },
      "execution_count": null,
      "outputs": []
    }
  ]
}